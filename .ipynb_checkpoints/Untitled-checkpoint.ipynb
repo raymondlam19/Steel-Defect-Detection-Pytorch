{
 "cells": [
  {
   "cell_type": "code",
   "execution_count": 9,
   "id": "3279e50e",
   "metadata": {},
   "outputs": [
    {
     "data": {
      "text/plain": [
       "<matplotlib.pyplot._IonContext at 0x2c6bf3442b0>"
      ]
     },
     "execution_count": 9,
     "metadata": {},
     "output_type": "execute_result"
    }
   ],
   "source": [
    "import os\n",
    "import numpy as np\n",
    "import pandas as pd\n",
    "import torch\n",
    "import torch.nn as nn\n",
    "from torch.utils.data import Dataset\n",
    "import torchvision\n",
    "import matplotlib.pyplot as plt\n",
    "\n",
    "import os\n",
    "import torch\n",
    "import pandas as pd\n",
    "from skimage import io, transform\n",
    "import numpy as np\n",
    "import matplotlib.pyplot as plt\n",
    "from torch.utils.data import Dataset, DataLoader\n",
    "from torchvision import transforms, utils\n",
    "from torchvision.transforms import ToTensor\n",
    "\n",
    "# Ignore warnings\n",
    "import warnings\n",
    "warnings.filterwarnings(\"ignore\")\n",
    "\n",
    "plt.ion()   # interactive mode"
   ]
  },
  {
   "cell_type": "code",
   "execution_count": 10,
   "id": "ee4b9526",
   "metadata": {},
   "outputs": [
    {
     "name": "stdout",
     "output_type": "stream",
     "text": [
      "<__main__.ImageDataset object at 0x000002C6B3F11D90>\n"
     ]
    }
   ],
   "source": [
    "class ImageDataset(Dataset):\n",
    "    def __init__(self, root_dir, csv_file, train_test='train', transform=None):\n",
    "        \"\"\"\n",
    "        Initialize data set as a list of IDs corresponding to each item of data set\n",
    "\n",
    "        Args:\n",
    "            root_dir (string): Directory with all the images.\n",
    "            csv_file (string): Path to the csv file with annotations.\n",
    "            train_test (string): Input 'train'/'test' to indicate the img folder\n",
    "            transform (callable, optional): Optional transform to be applied\n",
    "                on a sample.\n",
    "        \"\"\"\n",
    "        df = pd.read_csv(os.path.join(root_dir, csv_file))\n",
    "        df['ImageId'] = df['ImageId_ClassId'].str[:-2]\n",
    "        df['ClassId'] = df['ImageId_ClassId'].str[-1:]\n",
    "        df['defect'] = df['EncodedPixels'].notnull()\n",
    "        df = df[['ImageId','ClassId','defect','EncodedPixels']]\n",
    "\n",
    "        self.img_names = df['ImageId']\n",
    "        self.labels = df['defect']\n",
    "        self.root_dir = root_dir\n",
    "        self.csv_file = csv_file\n",
    "        self.img_folder = 'train_images/' if train_test=='train' else 'test_images/' if train_test=='test' else None\n",
    "        self.transform = transform\n",
    "\n",
    "    def __len__(self):\n",
    "        \"\"\"\n",
    "        Return the length of data set using list of IDs\n",
    "\n",
    "        :return: number of samples in data set\n",
    "        \"\"\"\n",
    "        return len(self.img_names)\n",
    "\n",
    "    def __getitem__(self, idx):\n",
    "        \"\"\"\n",
    "        Generate one item of data set.\n",
    "\n",
    "        :param index: index of item in IDs list\n",
    "\n",
    "        :return: a sample of data as a dict\n",
    "        \"\"\"\n",
    "\n",
    "        if torch.is_tensor(idx):\n",
    "            idx = idx.tolist()\n",
    "        # Image\n",
    "        img_name = os.path.join(self.root_dir, self.img_folder, self.img_names[idx])\n",
    "        image = io.imread(img_name)\n",
    "\n",
    "        # Transform image\n",
    "        if self.transform:\n",
    "            image = self.transform(image)\n",
    "        \n",
    "        # Label\n",
    "        label = self.labels[idx]\n",
    "\n",
    "        sample = {'image': image, 'label': label}\n",
    "\n",
    "        return sample\n",
    "\n",
    "dataset = ImageDataset(root_dir='./input/', csv_file='train.csv', train_test='train', transform=None)\n",
    "print(dataset)"
   ]
  },
  {
   "cell_type": "code",
   "execution_count": 44,
   "id": "008eab71",
   "metadata": {},
   "outputs": [
    {
     "data": {
      "image/png": "[encoded data removed]",
      "text/plain": [
       "<Figure size 432x288 with 1 Axes>"
      ]
     },
     "metadata": {
      "needs_background": "light"
     },
     "output_type": "display_data"
    }
   ],
   "source": [
    "fig = plt.figure()\n",
    "\n",
    "for i in range(len(dataset)):\n",
    "    sample = dataset[i]\n",
    "    plt.tight_layout()\n",
    "    plt.axis('off')\n",
    "    plt.title(f\"Sample {i}: {sample['label']} {sample['image'].shape}\")\n",
    "    plt.imshow(sample['image'])\n",
    "    plt.show()\n",
    "    break"
   ]
  },
  {
   "cell_type": "code",
   "execution_count": null,
   "id": "dfe67d9b",
   "metadata": {},
   "outputs": [],
   "source": []
  }
 ],
 "metadata": {
  "kernelspec": {
   "display_name": "Python 3 (ipykernel)",
   "language": "python",
   "name": "python3"
  },
  "language_info": {
   "codemirror_mode": {
    "name": "ipython",
    "version": 3
   },
   "file_extension": ".py",
   "mimetype": "text/x-python",
   "name": "python",
   "nbconvert_exporter": "python",
   "pygments_lexer": "ipython3",
   "version": "3.9.7"
  }
 },
 "nbformat": 4,
 "nbformat_minor": 5
}
